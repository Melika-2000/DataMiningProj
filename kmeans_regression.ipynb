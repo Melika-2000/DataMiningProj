{
 "cells": [
  {
   "cell_type": "code",
   "execution_count": 1,
   "metadata": {},
   "outputs": [],
   "source": [
    "import pandas as pd\n",
    "import re\n",
    "from sklearn import metrics\n",
    "from sklearn.cluster import DBSCAN,OPTICS,Birch,KMeans\n",
    "from sklearn.model_selection import train_test_split\n",
    "from sklearn.preprocessing import *\n",
    "import numpy as np\n",
    "import matplotlib.pyplot as plt \n",
    "from functions import *\n",
    "import math\n",
    "import hdbscan\n",
    "plt.style.use(plt.style.available[5])\n",
    "\n",
    "\n",
    "# to ignore \"DtypeWarning\", generated due to reading csv files\n",
    "import warnings\n",
    "warnings.filterwarnings(\"ignore\")\n"
   ]
  },
  {
   "cell_type": "code",
   "execution_count": 2,
   "metadata": {},
   "outputs": [],
   "source": [
    "# part 3\n",
    "\n",
    "products_DataSet = pd.read_csv('Data set/PRODUCTS.csv')\n",
    "\n",
    "productInstance_DataSet = pd.read_csv('Data set/PRODUCTINSTANCE.csv', encoding='cp1252')\n",
    "\n",
    "productInstance = productInstance_DataSet[['M_PRODUCT_ID',\"BOOKVALUE\",\"PRIMALVALUE\"]].copy()\n",
    "products = products_DataSet[['M_PRODUCT_ID','NAME',\"VALUE\"]].copy()"
   ]
  },
  {
   "cell_type": "code",
   "execution_count": 3,
   "metadata": {},
   "outputs": [
    {
     "name": "stdout",
     "output_type": "stream",
     "text": [
      "*****************running*******************\n"
     ]
    }
   ],
   "source": [
    "\n",
    "print(\"*****************running*******************\")\n",
    "ls = []\n",
    "for i,record in enumerate(products['NAME']):\n",
    "    s1 = re.search(' . .',record)\n",
    "    s2 = re.search(' .',record)\n",
    "    if s1 :\n",
    "        if s1.end() == len(record) and s1.start() == len(record)-4:\n",
    "\n",
    "            if type(products.VALUE[i]) != type(1):\n",
    "                try:\n",
    "                    products.VALUE[i] = pd.to_numeric(products.VALUE[i]) \n",
    "                    products.VALUE[i] /= 100000000\n",
    "\n",
    "                except ValueError:\n",
    "                    products.VALUE[i] = products.VALUE[i][:len(products.VALUE[i])-8]\n",
    "\n",
    "\n",
    "    elif s2 :\n",
    "        if s2.end() == len(record) and s2.start() == len(record)-2:\n",
    "            if type(products.VALUE[i]) != type(1):\n",
    "                try:\n",
    "                    products.VALUE[i] = pd.to_numeric(products.VALUE[i]) \n",
    "                    products.VALUE[i] /= 10000\n",
    "\n",
    "                except ValueError:\n",
    "                    products.VALUE[i] = products.VALUE[i][:len(products.VALUE[i])-4]\n",
    "                    products.VALUE[i] = int(products.VALUE[i])\n",
    "\n",
    "\n",
    "    try:\n",
    "        products.VALUE[i] = pd.to_numeric(products.VALUE[i]) \n",
    "\n",
    "    except ValueError:\n",
    "        products.VALUE[i] = products.VALUE[i][:len(products.VALUE[i])-4]\n",
    "        products.VALUE[i] = pd.to_numeric(products.VALUE[i], errors='coerce') \n",
    "    \n",
    "\n",
    "products['VALUE'] = products['VALUE'].astype('float64')\n"
   ]
  },
  {
   "cell_type": "code",
   "execution_count": 4,
   "metadata": {},
   "outputs": [],
   "source": [
    "\n",
    "merged = pd.merge(left=products,right=productInstance,how='inner',left_on='M_PRODUCT_ID',right_on='M_PRODUCT_ID')\n",
    "\n",
    "\n",
    "cleanData = merged[['NAME',\"VALUE\",'BOOKVALUE','PRIMALVALUE']].dropna()\n",
    "\n",
    "Xc = cleanData[['VALUE','BOOKVALUE','PRIMALVALUE']].copy()\n",
    "\n",
    "\n"
   ]
  },
  {
   "cell_type": "code",
   "execution_count": 5,
   "metadata": {},
   "outputs": [],
   "source": [
    "X = Xc.to_numpy()\n",
    "\n",
    "X_train_np, X_test_np = train_test_split(X,test_size=0.3,shuffle=True,random_state=40)\n",
    " # type: ignore\n",
    "# X_train_np = X_train.to_numpy()\n",
    "#  # type: ignore\n",
    "# X_test_np = X_test.to_numpy()\n",
    " # type: ignore\n"
   ]
  },
  {
   "cell_type": "code",
   "execution_count": 6,
   "metadata": {},
   "outputs": [],
   "source": [
    "\n",
    "standard = MinMaxScaler().fit(X[:,:2])\n",
    "train = standard.transform(X_train_np[:,:2])\n",
    "test = standard.transform(X_test_np[:,:2])\n"
   ]
  },
  {
   "cell_type": "code",
   "execution_count": 7,
   "metadata": {},
   "outputs": [],
   "source": [
    "# from yellowbrick.cluster import KElbowVisualizer\n",
    "\n",
    "# # Generate synthetic dataset with 8 random clusters\n",
    "\n",
    "# # Instantiate the clustering model and visualizer\n",
    "# model = KMeans()\n",
    "# visualizer = KElbowVisualizer(model, k=(40,60))\n",
    "\n",
    "# visualizer.fit(train)        # Fit the data to the visualizer\n",
    "# visualizer.show()   \n",
    "# print(visualizer.elbow_value_)\n",
    "# 7, 0.576 0.5\n",
    "# 11, 0.173 0.7\n",
    "# 34, 0.018 2.2\n",
    "# 48, 0.008 2.8\n",
    "# 79 , 0.003 5.0\n",
    "# 101, 0.002 7.1"
   ]
  },
  {
   "cell_type": "code",
   "execution_count": 8,
   "metadata": {},
   "outputs": [],
   "source": [
    "# from yellowbrick.cluster import KElbowVisualizer\n",
    "\n",
    "# # Generate synthetic dataset with 8 random clusters\n",
    "\n",
    "# # Instantiate the clustering model and visualizer\n",
    "# model = KMeans()\n",
    "# visualizer = KElbowVisualizer(model, k=(34,50),metric='calinski_harabasz')\n",
    "\n",
    "# visualizer.fit(train)        # Fit the data to the visualizer\n",
    "# visualizer.show()   \n",
    "# print(visualizer.elbow_value_)\n",
    "# 61 5100990537 4.1\n",
    "# 20 1472691090 1.5"
   ]
  },
  {
   "cell_type": "code",
   "execution_count": 9,
   "metadata": {},
   "outputs": [
    {
     "name": "stdout",
     "output_type": "stream",
     "text": [
      "[ 0 14 32 ... 45  0 32]\n"
     ]
    }
   ],
   "source": [
    "model = KMeans()\n",
    "model.n_clusters = 48\n",
    "\n",
    "kmeans = model.fit(train)\n",
    "\n",
    "print(kmeans.labels_)\n",
    "train_labels = kmeans.labels_\n",
    "# print(kmeans.cluster_centers_)\n",
    "\n",
    "\n",
    "\n",
    "\n",
    "\n",
    "\n"
   ]
  },
  {
   "cell_type": "code",
   "execution_count": 10,
   "metadata": {},
   "outputs": [
    {
     "name": "stdout",
     "output_type": "stream",
     "text": [
      "Silhouette Coefficient (train): 0.835\n",
      "Silhouette Coefficient (test): 0.838\n"
     ]
    }
   ],
   "source": [
    "\n",
    "maxBoundary = len(test)\n",
    "index = []\n",
    "test_ls = []\n",
    "for i in range(10):\n",
    "    ind = random_int(0,maxBoundary)\n",
    "    test_ls.append(test[ind])\n",
    "    index.append(ind)\n",
    "\n",
    "\n",
    "test_ls = np.asarray(test_ls)\n",
    "predictions = kmeans.predict(test)\n",
    "\n",
    "# print(index)\n",
    "# print(f\"labels: {predictions[index]}\")\n",
    "\n",
    "# print(f\"soft cluster scores: {strengths}\")\n",
    "\n",
    "# figure = plt.figure(figsize=(9,7))\n",
    "# plt.scatter(train[:,0],train[:,1],c=train_labels, s=200)\n",
    "# plt.scatter(test[index, 0], test[index, 1], c=predictions,s=100)\n",
    "# plt.title(\"Optimal Number of Clusters\")\n",
    "# plt.show()\n",
    "# plt.savefig('Kmeans-results.png')\n",
    "# o = metrics.silhouette_score(test, predictions)\n",
    "\n",
    "# print(f\"Silhouette Coefficient: {o}\")\n",
    "\n",
    "\n",
    "# figure = plt.figure(figsize=(9,7))\n",
    "# plt.title(\"train result\")\n",
    "# plt.scatter(train[:,0],train[:,1],c=train_labels_, s=200)\n",
    "# plt.show()\n",
    "\n",
    "print(f\"Silhouette Coefficient (train): {metrics.silhouette_score(train, train_labels):.3f}\")\n",
    "print(f\"Silhouette Coefficient (test): {metrics.silhouette_score(test, predictions):.3f}\")\n"
   ]
  },
  {
   "cell_type": "code",
   "execution_count": 31,
   "metadata": {},
   "outputs": [
    {
     "name": "stdout",
     "output_type": "stream",
     "text": [
      "1843\n"
     ]
    },
    {
     "data": {
      "image/png": "[encoded data removed]",
      "text/plain": [
       "<Figure size 640x480 with 1 Axes>"
      ]
     },
     "metadata": {},
     "output_type": "display_data"
    }
   ],
   "source": [
    "maxBoundary = len(test)\n",
    "test_record_ind = random_int(0,maxBoundary)\n",
    "TRI_lbl = predictions[test_record_ind]\n",
    "\n",
    "cluster_index = []\n",
    "for i,lbl in enumerate(train_labels):\n",
    "    if lbl == TRI_lbl:\n",
    "        cluster_index.append(i)\n",
    "\n",
    "print(len(cluster_index))\n",
    "# Xr = cleanData[[\"VALUE\",'BOOKVALUE','PRIMALVALUE']].copy()\n",
    "# Xr_np = Xr.to_numpy()\n",
    "\n",
    "# print(X_train_np.shape)\n",
    "# print(X_train_np[1])\n",
    "\n",
    "x1 = X_train_np[cluster_index,1]\n",
    "y1 = X_train_np[cluster_index,2]\n",
    "\n",
    "plt.axline((0, 0), slope=1, color=\"red\", linestyle=(0, (5, 5)))\n",
    "plt.xlabel('PRIMALVALUE')\n",
    "plt.ylabel('BOOKVALUE')\n",
    "plt.scatter(x1,y1)\n",
    "ax = plt.gca()\n",
    "ax.grid(True)\n",
    "# ax.set_aspect('equal', adjustable='box')\n",
    "plt.show()\n"
   ]
  },
  {
   "cell_type": "code",
   "execution_count": 37,
   "metadata": {},
   "outputs": [
    {
     "name": "stdout",
     "output_type": "stream",
     "text": [
      "17145700.0\n"
     ]
    }
   ],
   "source": [
    "from sklearn import linear_model\n",
    "\n",
    "regressor = linear_model.LinearRegression(positive=True)\n",
    "x1 = X_train_np[cluster_index,1:3]\n",
    "regressor.fit(x1,y1)\n",
    "\n",
    "x2 = X_test_np[test_record_ind,2]\n",
    "\n",
    "print(x2)\n"
   ]
  }
 ],
 "metadata": {
  "kernelspec": {
   "display_name": "Python 3",
   "language": "python",
   "name": "python3"
  },
  "language_info": {
   "codemirror_mode": {
    "name": "ipython",
    "version": 3
   },
   "file_extension": ".py",
   "mimetype": "text/x-python",
   "name": "python",
   "nbconvert_exporter": "python",
   "pygments_lexer": "ipython3",
   "version": "3.10.2"
  },
  "orig_nbformat": 4,
  "vscode": {
   "interpreter": {
    "hash": "d138ee4df375e66025d636822f618c5c0d3b0c70d03b3f5351c1d04343e1f86a"
   }
  }
 },
 "nbformat": 4,
 "nbformat_minor": 2
}
